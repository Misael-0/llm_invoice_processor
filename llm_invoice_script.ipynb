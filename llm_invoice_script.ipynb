{
 "cells": [
  {
   "cell_type": "markdown",
   "id": "e0a94cf5-25a6-46ea-8fa8-062bd501a006",
   "metadata": {},
   "source": [
    "# Práctica 1. Levantar un Servidor Local de LLM y realizar una tarea básica utilizando su API"
   ]
  },
  {
   "cell_type": "markdown",
   "id": "1362e622-77c1-467c-a9ec-8e7cd4e72a93",
   "metadata": {},
   "source": [
    "El programa procesa facturas en formato PDF a un archivo CSV que sirve como resumen del total de las facturas. Mediante el uso de un servidor local de LM Studio y un LLM, se consigue completar esta tarea."
   ]
  },
  {
   "cell_type": "markdown",
   "id": "259fd891-baa2-4734-ab5d-22690906236e",
   "metadata": {},
   "source": [
    "#### Fuentes utilizadas\n",
    "\n",
    "- Listar archivos de un directorio: https://stackoverflow.com/questions/3207219/how-do-i-list-all-files-of-a-directory\n",
    "  \n",
    "- Interacción con los modelos LLM de LM Studio (se sigue el ejemplo que se encuentra en la sección _Endpoints overview_): https://lmstudio.ai/docs/app/api/endpoints/openai\n",
    "\n",
    "  \n",
    "- Parámetros disponibles en la interacción con los modelos LLM: https://platform.openai.com/docs/api-reference/chat/create"
   ]
  },
  {
   "cell_type": "code",
   "execution_count": 6,
   "id": "c57ca726-9f1b-48d5-b6ce-66ef34541e22",
   "metadata": {},
   "outputs": [],
   "source": [
    "from PyPDF2 import PdfReader\n",
    "from openai import OpenAI\n",
    "import pandas as pd\n",
    "from os import listdir\n",
    "from os.path import isfile, join\n",
    "import sys"
   ]
  },
  {
   "cell_type": "code",
   "execution_count": 7,
   "id": "29b48969-ca45-48ba-97b9-cfc4268d6a26",
   "metadata": {},
   "outputs": [],
   "source": [
    "# Ruta del directorio donde están las facturas.\n",
    "DIRECTORIO_FACTURAS = \"./facturas/\"\n",
    "\n",
    "# Ruta del almacenamiento del CSV generado\n",
    "RUTA_CSV = \"./resumenes/resumen_facturas.csv\"\n",
    "\n",
    "# Separador utilizado para los campos del CSV.\n",
    "SEPARADOR = \";\"\n",
    "SEPARADOR_NOMBRE = \"semicolon\""
   ]
  },
  {
   "cell_type": "code",
   "execution_count": 8,
   "id": "8f29d7a8-44a3-41c9-8308-156885d144c8",
   "metadata": {},
   "outputs": [],
   "source": [
    "# Temperatura para la creatividad del modelo.\n",
    "TEMPERATURA = 0.4\n",
    "\n",
    "# Nivel de esfuerzo que debe aplicar al razonar.\n",
    "RAZONAMIENTO = \"minimal\"\n",
    "\n",
    "# Prompt para el modelo.\n",
    "PROMPT = f\"\"\"You are going to receive an invoice data in text format. Read it and identify the following three fields on the invoice:\n",
    "                1. Customer\n",
    "                2. Date\n",
    "                3. Total amount\n",
    "            Once identified return the three fields separated by {SEPARADOR_NOMBRE} in the following format:\n",
    "                Customer{SEPARADOR} (DD-MM-YYYY){SEPARADOR} Total Amount\n",
    "            For example:\n",
    "                Enterprise, S.L.{SEPARADOR} (01-11-2025){SEPARADOR} 40\n",
    "            Remember, return only these three items in the format indicated (separated by {SEPARADOR_NOMBRE} on a single line) and nothing else.\n",
    "            The default values for these fields are:\n",
    "                None{SEPARADOR} (00-00-0000){SEPARADOR} 0\n",
    "            Use them if you do not find any information required.\n",
    "            For decimal numbers use commas instead of dots (Example: 40,0 instead of 40.0)\n",
    "            Include only the amount, not the currency.\n",
    "         \"\"\""
   ]
  },
  {
   "cell_type": "code",
   "execution_count": 9,
   "id": "4ac20f8a-ed3a-4b2f-95d7-3ccc13b3001c",
   "metadata": {},
   "outputs": [],
   "source": [
    "# Obtención de todos los archivos del directorio, no se consideran subdirectorios.\n",
    "archivos = [archivo for archivo in listdir(DIRECTORIO_FACTURAS) if isfile(join(DIRECTORIO_FACTURAS, archivo))]\n",
    "\n",
    "# Si no hay archivos, no se debe seguir.\n",
    "if len(archivos) == 0:\n",
    "    print(\"No hay facturas.\")\n",
    "    sys.exit(0) # Salir del programa."
   ]
  },
  {
   "cell_type": "code",
   "execution_count": 10,
   "id": "7569f22e-0862-43af-b0e9-67bd259ea6e6",
   "metadata": {},
   "outputs": [
    {
     "name": "stdout",
     "output_type": "stream",
     "text": [
      "Resúmenes generados en ./resumenes/resumen_facturas.csv\n"
     ]
    }
   ],
   "source": [
    "# Acceso al modelo.\n",
    "client = OpenAI(base_url=\"http://localhost:1234/v1\", api_key=\"lm-studio\")\n",
    "MODELO_LLM = \"phi-3.1-mini-4k-instruct\"\n",
    "\n",
    "respuestas = { \"Customer\" : [], \"Date\" : [], \"Total_Amount\" : []}\n",
    "\n",
    "# Procesamiento de cada factura.\n",
    "for factura in archivos:\n",
    "    \n",
    "    lector = PdfReader(f\"{DIRECTORIO_FACTURAS}{factura}\")\n",
    "    texto = \"\"\n",
    "\n",
    "    # Se pasa a texto cada página del PDF.\n",
    "    for pagina in lector.pages:\n",
    "        texto += pagina.extract_text()\n",
    "\n",
    "    # Interacción con el modelo.\n",
    "    completion = client.chat.completions.create(\n",
    "        model = MODELO_LLM,\n",
    "        temperature = TEMPERATURA,\n",
    "        reasoning_effort = RAZONAMIENTO,\n",
    "        messages = [\n",
    "            { \"role\": \"system\", \"content\": PROMPT },\n",
    "            { \"role\": \"user\", \"content\": texto }\n",
    "        ]\n",
    "    )\n",
    "\n",
    "    # Respuesta del modelo.\n",
    "    contenido = completion.choices[0].message.content\n",
    "    cliente, fecha, total = contenido.split(SEPARADOR, maxsplit = 2)\n",
    "\n",
    "    # Adición de la respuesta.\n",
    "    respuestas[\"Customer\"].append(cliente.strip())\n",
    "    respuestas[\"Date\"].append(fecha.strip())\n",
    "    respuestas[\"Total_Amount\"].append(total.strip())\n",
    "\n",
    "# Creación del CSV.\n",
    "df = pd.DataFrame(respuestas)\n",
    "df.to_csv(RUTA_CSV, index=False, sep=SEPARADOR, encoding=\"utf-8-sig\")\n",
    "\n",
    "print(f\"Resúmenes generados en {RUTA_CSV}\")"
   ]
  }
 ],
 "metadata": {
  "kernelspec": {
   "display_name": "Python 3 (ipykernel)",
   "language": "python",
   "name": "python3"
  },
  "language_info": {
   "codemirror_mode": {
    "name": "ipython",
    "version": 3
   },
   "file_extension": ".py",
   "mimetype": "text/x-python",
   "name": "python",
   "nbconvert_exporter": "python",
   "pygments_lexer": "ipython3",
   "version": "3.9.20"
  }
 },
 "nbformat": 4,
 "nbformat_minor": 5
}
